{
 "cells": [
  {
   "cell_type": "code",
   "execution_count": 1,
   "id": "a3c394d7",
   "metadata": {},
   "outputs": [],
   "source": [
    "## This will serve as a consolidated notebook between the two sets of GI experiments done for herken2024 to call \n",
    "## genetic interactions \n",
    "\n",
    "## The outputs from this notebook are used in (almost) all other notebooks contained in the manuscript"
   ]
  },
  {
   "cell_type": "code",
   "execution_count": 6,
   "id": "57dc99e5",
   "metadata": {},
   "outputs": [],
   "source": [
    "## Import modules\n",
    "\n",
    "import numpy as np\n",
    "import scipy as sp\n",
    "import pandas as pd\n",
    "from scipy import optimize\n",
    "from scipy import stats"
   ]
  },
  {
   "cell_type": "code",
   "execution_count": 1,
   "id": "5c15b687",
   "metadata": {},
   "outputs": [],
   "source": [
    "## Call functions\n",
    "\n",
    "####Analysis pipeline####\n",
    "\n",
    "## ALL THAT FOLLOWS IN THIS CELL WAS CREATED BY MAX HORLBECK\n",
    "\n",
    "#version that only filters based on cycledCol as many sgRNAs have median rep of 0 at the end\n",
    "def calcLog2e_cycledonly(t0Col, cycledCol, doublesTable, filterThreshold = 1.0, pseudocount = 1.0, doublingDifferences = 1.0):\n",
    "    meanCounts = pd.concat((cycledCol.groupby(doublesTable['name_a']).agg(np.median),cycledCol.groupby(doublesTable['name_b']).agg(np.median)),axis=1, keys=['a','b'])\n",
    "    \n",
    "    sgsToFilter = set(meanCounts.loc[meanCounts.loc[:,'b'] < filterThreshold].index).union(set(meanCounts.loc[meanCounts.loc[:,'a'] < filterThreshold].index))\n",
    "    doublesTable_filt = doublesTable.loc[doublesTable.apply(lambda row: row['name_a'] not in sgsToFilter and row['name_b'] not in sgsToFilter, axis=1)]\n",
    "    print(str(len(doublesTable_filt)) + ' pairs of ' + str(len(doublesTable)) + ' passing filter')\n",
    "    \n",
    "    countsRatio = (t0Col.loc[doublesTable_filt.index] + pseudocount).sum()*1.0/(cycledCol.loc[doublesTable_filt.index] + pseudocount).sum()\n",
    "    log2es = np.log2((cycledCol.loc[doublesTable_filt.index] + pseudocount)/(t0Col.loc[doublesTable_filt.index] + pseudocount)/countsRatio)\n",
    "\n",
    "    doubleNegatives = doublesTable.apply(lambda row: row['gene_a'] == 'negative' and row['gene_b'] == 'negative', axis=1)\n",
    "\n",
    "    log2es -= log2es.loc[doubleNegatives].median()\n",
    "\n",
    "    log2es /= doublingDifferences\n",
    "    \n",
    "    return log2es\n",
    "\n",
    "#for a specified variable position and sgRNA, get single phenotypes, double phenotypes, and optionally single phenotype std dev.\n",
    "def getXYB(sgRNA, singlePhenotypes, phenotypeMatrix, variablePosition, fixedPosition, returnXerr=False):\n",
    "    if not returnXerr:\n",
    "        return singlePhenotypes[variablePosition+'.mean'], \\\n",
    "            phenotypeMatrix.loc[sgRNA,:] if fixedPosition == 'a' else phenotypeMatrix.loc[:,sgRNA], \\\n",
    "            singlePhenotypes.loc[sgRNA, fixedPosition +'.mean']\n",
    "    else:\n",
    "        return singlePhenotypes[variablePosition+'.mean'], \\\n",
    "            phenotypeMatrix.loc[sgRNA,:] if fixedPosition == 'a' else phenotypeMatrix.loc[:,sgRNA], \\\n",
    "            singlePhenotypes.loc[sgRNA, fixedPosition +'.mean'], singlePhenotypes[variablePosition+'.std']\n",
    "        \n",
    "#convert phenotypes into square matrix\n",
    "def generatePhenotypeMatrix(phenotypes):\n",
    "    numSingles = int(np.sqrt(len(phenotypes)))\n",
    "    phenotypeMatrix = np.zeros((numSingles,numSingles))\n",
    "    singlesTable = []\n",
    "    for i, (sgPair, counts) in enumerate(phenotypes.sort_index().items()):\n",
    "        phenotypeMatrix[int(i/numSingles), i%numSingles] = counts\n",
    "        if i%numSingles == 0:\n",
    "            singlesTable.append(sgPair.split(':')[0])\n",
    "\n",
    "    phenotypeMatrix = pd.DataFrame(phenotypeMatrix, index=singlesTable, columns=singlesTable)\n",
    "    singlesTable = pd.DataFrame([s.split('_')[0] for s in singlesTable], index=singlesTable, columns=['gene'])\n",
    "    \n",
    "    singlePhenotypes = pd.concat((phenotypeMatrix.loc[singlesTable['gene'] == 'non-targeting',:].apply(np.nanmean, axis=0), \n",
    "                                  phenotypeMatrix.loc[singlesTable['gene'] == 'non-targeting',:].apply(np.nanstd, axis=0), \n",
    "                                  phenotypeMatrix.loc[:, singlesTable['gene'] == 'non-targeting'].apply(np.nanmean, axis=1),\n",
    "                                 phenotypeMatrix.loc[:, singlesTable['gene'] == 'non-targeting'].apply(np.nanstd, axis=1)), \n",
    "                                 axis=1, keys=['b.mean','b.std','a.mean','a.std'])\n",
    "    \n",
    "    return phenotypeMatrix, singlesTable, singlePhenotypes\n",
    "\n",
    "def abbaAveragePhenotypes(phenotypeMatrix, singlesTable):\n",
    "\tphenotypeMatrix_abba = (phenotypeMatrix + phenotypeMatrix.T) / 2\n",
    "\n",
    "\tsinglePhenotypes_abba = pd.concat((phenotypeMatrix_abba.loc[singlesTable['gene'] == 'non-targeting',:].apply(np.nanmean, axis=0), \n",
    "                                  phenotypeMatrix_abba.loc[singlesTable['gene'] == 'non-targeting',:].apply(np.nanstd, axis=0), \n",
    "                                  phenotypeMatrix_abba.loc[:, singlesTable['gene'] == 'non-targeting'].apply(np.nanmean, axis=1),\n",
    "                                  phenotypeMatrix_abba.loc[:, singlesTable['gene'] == 'non-targeting'].apply(np.nanstd, axis=1)), \n",
    "                                 axis=1, keys=['b.mean','b.std','a.mean','a.std'])\n",
    "\n",
    "\treturn phenotypeMatrix_abba, singlePhenotypes_abba\n",
    "\n",
    "\n",
    "#calculate epistasis interactions, optionally z-standardizing based on negative controls\n",
    "def calculateInteractions(phenotypeMatrix, singlePhenotypes, singlesTable, fitFunction, zstandardize=True):\n",
    "    emap1 = pd.DataFrame(np.zeros(phenotypeMatrix.shape), index=phenotypeMatrix.index, columns=phenotypeMatrix.columns)\n",
    "    variablePosition, fixedPosition = 'a','b'\n",
    "    for i, sgRNA in enumerate(phenotypeMatrix.index):\n",
    "        xdata, ydata, bdata = getXYB(sgRNA, singlePhenotypes, phenotypeMatrix, variablePosition, fixedPosition)\n",
    "        \n",
    "        fit = fitFunction(xdata, ydata, bdata)\n",
    "        epistasis = ydata - fit(xdata)\n",
    "\n",
    "        if zstandardize:\n",
    "\t        emap1.loc[sgRNA,:] = epistasis / epistasis.loc[singlesTable['gene'] == 'non-targeting'].std()\n",
    "       \telse:\n",
    "\t        emap1.loc[sgRNA,:] = epistasis \n",
    "\n",
    "    emap2 = pd.DataFrame(np.zeros(phenotypeMatrix.shape), index=phenotypeMatrix.index, columns=phenotypeMatrix.columns)\n",
    "    variablePosition, fixedPosition = 'b','a'\n",
    "    for i, sgRNA in enumerate(phenotypeMatrix.index):\n",
    "        xdata, ydata, bdata = getXYB(sgRNA, singlePhenotypes, phenotypeMatrix, variablePosition, fixedPosition)\n",
    "        \n",
    "        fit = fitFunction(xdata, ydata, bdata)\n",
    "        epistasis = ydata - fit(xdata)\n",
    "\n",
    "        if zstandardize:\n",
    "\t        emap2.loc[sgRNA,:] = epistasis / epistasis.loc[singlesTable['gene'] == 'non-targeting'].std()\n",
    "       \telse:\n",
    "\t        emap2.loc[sgRNA,:] = epistasis \n",
    "\n",
    "    emap12 = (emap1+emap2)/2\n",
    "    \n",
    "    emap_ave = (emap12 + emap12.T) / 2\n",
    "    \n",
    "    return emap1, emap2, emap_ave\n",
    "\n",
    "#calculate all pairwise intra-sgRNA or intra-gene correlations\n",
    "def calculateCorrelationMatrix(matrix, diagNull=True):\n",
    "    corrMatrix = pd.DataFrame(np.corrcoef(matrix), index=matrix.index, columns=matrix.columns)\n",
    "    \n",
    "    if diagNull:\n",
    "        for i in range(len(corrMatrix)):\n",
    "            corrMatrix.iloc[i,i] = np.nan\n",
    "            \n",
    "    return corrMatrix\n",
    "\n",
    "#find correlations between sgRNAs targeting the same gene and negative controls\n",
    "def calculateIntrageneCorrelation(sgCorrMatrix, singlePhenotypes, singlesTable):\n",
    "    sameGeneCorrTups = []\n",
    "    negCorrTups = []\n",
    "    for gene, sgs in singlesTable.groupby('gene'):\n",
    "        for i, (sg1, row) in enumerate(sgCorrMatrix.loc[sgs.index, sgs.index].iterrows()):\n",
    "            for j, (sg2, val) in enumerate(row.items()):\n",
    "                if i>j:\n",
    "                    if gene != 'negative':\n",
    "                        sameGeneCorrTups.append((sg1, sg2, \n",
    "                                                 singlePhenotypes.loc[sg1,['a.mean','b.mean']].mean(), \n",
    "                                                 singlePhenotypes.loc[sg2,['a.mean','b.mean']].mean(),\n",
    "                                                val))\n",
    "                    else:\n",
    "                        negCorrTups.append((sg1, sg2, \n",
    "                                                 singlePhenotypes.loc[sg1,['a.mean','b.mean']].mean(), \n",
    "                                                 singlePhenotypes.loc[sg2,['a.mean','b.mean']].mean(),\n",
    "                                                val))\n",
    "                        \n",
    "    return sameGeneCorrTups, negCorrTups\n",
    "\n",
    "\n",
    "#generate a gene map by averaging sgRNA epistasis\n",
    "def generateGeneMap(emap_sgRNA, singlesTable):\n",
    "    emap_gene = pd.DataFrame(np.zeros((len(set(singlesTable['gene'])),len(set(singlesTable['gene'])))), index = sorted(set(singlesTable['gene'])), columns = sorted(set(singlesTable['gene'])))\n",
    "    for gene_a, rowgroup in emap_sgRNA.groupby(singlesTable['gene']):\n",
    "        for gene_b, colgroup in rowgroup.T.groupby(singlesTable['gene']):\n",
    "            emap_gene.loc[gene_a, gene_b] = colgroup.sum().sum() / (colgroup.shape[0] * colgroup.shape[1])\n",
    "            \n",
    "    return emap_gene\n",
    "\n",
    "### fit functions for calculating interactions and plotting\n",
    "def linearFitForceIntercept(xdata, ydata, bdata):\n",
    "    m1 = optimize.fmin(lambda m, x, y: ((m*x + bdata - y)**2).sum(), x0=0.1, args=(xdata, ydata), disp=0)[0]\n",
    "    \n",
    "    return lambda x1: m1*np.array(x1) + bdata\n",
    "\n",
    "def quadFitForceIntercept(xdata, ydata, bdata):\n",
    "    m1 = optimize.fmin(lambda m, x, y: ((m[0]*(x**2) + m[1]*x + bdata - y)**2).sum(), x0=[0.1,0.1], args=(xdata, ydata), disp=0)\n",
    "    \n",
    "    return lambda x1: m1[0]*(np.array(x1)**2) + m1[1]*np.array(x1) + bdata\n"
   ]
  },
  {
   "cell_type": "code",
   "execution_count": 13,
   "id": "4bd0acc3",
   "metadata": {},
   "outputs": [],
   "source": [
    "## This updated function corrects a mistake in Max's \"calcLog2e_cycledonly\" function, which while ultimately not \n",
    "## affecting the data is important not to continue to propigate\n",
    "\n",
    "def calcLog2e_cycledonly_corrected(t0Col, cycledCol, doublesTable, filterThreshold = 1.0, pseudocount = 1.0, doublingDifferences = 1.0):\n",
    "    meanCounts = pd.concat((cycledCol.groupby(doublesTable['name_a']).agg('median'),cycledCol.groupby(doublesTable['name_b']).agg('median')),axis=1, keys=['a','b'])\n",
    "    \n",
    "    sgsToFilter = set(meanCounts.loc[meanCounts.loc[:,'b'] < filterThreshold].index).union(set(meanCounts.loc[meanCounts.loc[:,'a'] < filterThreshold].index))\n",
    "    doublesTable_filt = doublesTable.loc[doublesTable.apply(lambda row: row['name_a'] not in sgsToFilter and row['name_b'] not in sgsToFilter, axis=1)]\n",
    "    print(str(len(doublesTable_filt)) + ' pairs of ' + str(len(doublesTable)) + ' passing filter')\n",
    "    \n",
    "    countsRatio = (t0Col.loc[doublesTable_filt.index] + pseudocount).sum()*1.0/(cycledCol.loc[doublesTable_filt.index] + pseudocount).sum()\n",
    "    log2es = np.log2(((cycledCol.loc[doublesTable_filt.index] + pseudocount)/(t0Col.loc[doublesTable_filt.index] + pseudocount))*countsRatio)\n",
    "\n",
    "    doubleNegatives = doublesTable.apply(lambda row: row['gene_a'] == 'negative' and row['gene_b'] == 'negative', axis=1)\n",
    "\n",
    "    log2es -= log2es.loc[doubleNegatives].median()\n",
    "\n",
    "    log2es /= doublingDifferences\n",
    "    \n",
    "    return log2es\n"
   ]
  },
  {
   "cell_type": "code",
   "execution_count": 7,
   "id": "a9dc434e",
   "metadata": {},
   "outputs": [],
   "source": [
    "## Import Data\n",
    "\n",
    "## The three files referenced in defining variables below can be found at: \n",
    "## https://ucsf.box.com/s/nuwov4kgb55mqfrr7j5a216ot78f4uxn\n",
    "## and should be used to define these variables accordingly:\n",
    "\n",
    "## expt1_countsFile = pd.read_csv('../GI_expt1_counts.txt',sep='\\t').set_index('double')\n",
    "## expt2_countsFile = pd.read_csv('../GI_expt2_counts.txt',sep='\\t').set_index('double')\n",
    "## doublesLibrary = pd.read_csv('../dualsgrna_alignedlibrary.txt',sep='\\t').set_index('double')\n",
    "\n",
    "expt1_countsFile = pd.read_csv('/Users/benh/Desktop/UCSF_Tetrad_Program/Gilbert_Lab/DDRmap/ddrGI_K562_results/Counts_Files_Processed/ddrGI_K562_CountsMaster.txt',sep='\\t').set_index('double')\n",
    "expt2_countsFile = pd.read_csv('/Users/benh/Desktop/UCSF_Tetrad_Program/Gilbert_Lab/gi2/counts/counts_master.txt').set_index('double')\n",
    "\n",
    "doublesLibrary = pd.read_csv('/Users/benh/Desktop/UCSF_Tetrad_Program/Gilbert_Lab/DDRmap/ddrGI_Libraries/ddrGI_doubles.txt',sep='\\t').set_index('double')\n"
   ]
  },
  {
   "cell_type": "code",
   "execution_count": 8,
   "id": "20b1bc03",
   "metadata": {},
   "outputs": [],
   "source": [
    "## define growthScores for normalizing data by each conditions number of cell population doublings over the course \n",
    "## of the experiment\n",
    "growthScores = {\n",
    "    'expt1_rep1_dmso' : 9.632926829,\n",
    "    'expt1_rep1_atr' : 4.76097561,\n",
    "    'expt1_rep2_dmso' : 9.559756098,\n",
    "    'expt1_rep2_atr' : 4.807317073,\n",
    "    'expt2_rep1_dmso' : 5.761137265,\n",
    "    'expt2_rep1_etop' : 2.251010599,\n",
    "    'expt2_rep1_keto' : 4.173335676,\n",
    "    'expt2_rep2_dmso' : 6.324829553,\n",
    "    'expt2_rep2_etop' : 2.211941293,\n",
    "    'expt2_rep2_keto' : 4.807317073}"
   ]
  },
  {
   "cell_type": "code",
   "execution_count": 14,
   "id": "adb31c33",
   "metadata": {},
   "outputs": [
    {
     "name": "stdout",
     "output_type": "stream",
     "text": [
      "400689 pairs of 407044 passing filter\n",
      "398161 pairs of 407044 passing filter\n"
     ]
    }
   ],
   "source": [
    "## Calculate expt1_dmso replicate phenotypes\n",
    "\n",
    "expt1_dmso_r1_phenotypes = calcLog2e_cycledonly_corrected(expt1_countsFile['Rep1_T0'],\n",
    "                                   expt1_countsFile['Rep1_UT'],\n",
    "                                   doublesLibrary,\n",
    "                                   filterThreshold=35,\n",
    "                                   pseudocount=10,\n",
    "                                   doublingDifferences=growthScores['expt1_rep1_dmso'])\n",
    "\n",
    "expt1_dmso_r2_phenotypes = calcLog2e_cycledonly_corrected(expt1_countsFile['Rep2_T0'],\n",
    "                                   expt1_countsFile['Rep2_UT'],\n",
    "                                   doublesLibrary,\n",
    "                                   filterThreshold=35,\n",
    "                                   pseudocount=10,\n",
    "                                   doublingDifferences=growthScores['expt1_rep2_dmso'])"
   ]
  },
  {
   "cell_type": "code",
   "execution_count": 15,
   "id": "2047033e",
   "metadata": {},
   "outputs": [
    {
     "name": "stdout",
     "output_type": "stream",
     "text": [
      "370881 pairs of 407044 passing filter\n",
      "357604 pairs of 407044 passing filter\n"
     ]
    }
   ],
   "source": [
    "## Calculate expt1_atr replicate phenotypes\n",
    "\n",
    "expt1_atr_r1_phenotypes = calcLog2e_cycledonly_corrected(expt1_countsFile['Rep1_T0'],\n",
    "                                   expt1_countsFile['Rep1_DRUG'],\n",
    "                                   doublesLibrary,\n",
    "                                   filterThreshold=35,\n",
    "                                   pseudocount=10,\n",
    "                                   doublingDifferences=growthScores['expt1_rep1_atr'])\n",
    "\n",
    "expt1_atr_r2_phenotypes = calcLog2e_cycledonly_corrected(expt1_countsFile['Rep2_T0'],\n",
    "                                   expt1_countsFile['Rep2_DRUG'],\n",
    "                                   doublesLibrary,\n",
    "                                   filterThreshold=35,\n",
    "                                   pseudocount=10,\n",
    "                                   doublingDifferences=growthScores['expt1_rep2_atr'])"
   ]
  },
  {
   "cell_type": "code",
   "execution_count": 16,
   "id": "086c0406",
   "metadata": {},
   "outputs": [
    {
     "name": "stdout",
     "output_type": "stream",
     "text": [
      "403225 pairs of 407044 passing filter\n",
      "401956 pairs of 407044 passing filter\n"
     ]
    }
   ],
   "source": [
    "## Calculate expt2_dmso replicate phenotypes\n",
    "\n",
    "expt2_dmso_r1_phenotypes = calcLog2e_cycledonly_corrected(expt2_countsFile['t0_r1'],\n",
    "                                   expt2_countsFile['dmso_r1'],\n",
    "                                   doublesLibrary,\n",
    "                                   filterThreshold=35,\n",
    "                                   pseudocount=10,\n",
    "                                   doublingDifferences=growthScores['expt2_rep1_dmso'])\n",
    "\n",
    "expt2_dmso_r2_phenotypes = calcLog2e_cycledonly_corrected(expt2_countsFile['t0_r2'],\n",
    "                                   expt2_countsFile['dmso_r2'],\n",
    "                                   doublesLibrary,\n",
    "                                   filterThreshold=35,\n",
    "                                   pseudocount=10,\n",
    "                                   doublingDifferences=growthScores['expt2_rep2_dmso'])"
   ]
  },
  {
   "cell_type": "code",
   "execution_count": 17,
   "id": "5358800d",
   "metadata": {},
   "outputs": [
    {
     "name": "stdout",
     "output_type": "stream",
     "text": [
      "404496 pairs of 407044 passing filter\n",
      "404496 pairs of 407044 passing filter\n"
     ]
    }
   ],
   "source": [
    "## Calculate expt2_etop replicate phenotypes\n",
    "\n",
    "expt2_etop_r1_phenotypes = calcLog2e_cycledonly_corrected(expt2_countsFile['t0_r1'],\n",
    "                                   expt2_countsFile['etop_r1'],\n",
    "                                   doublesLibrary,\n",
    "                                   filterThreshold=35,\n",
    "                                   pseudocount=10,\n",
    "                                   doublingDifferences=growthScores['expt2_rep1_etop'])\n",
    "\n",
    "expt2_etop_r2_phenotypes = calcLog2e_cycledonly_corrected(expt2_countsFile['t0_r2'],\n",
    "                                   expt2_countsFile['etop_r2'],\n",
    "                                   doublesLibrary,\n",
    "                                   filterThreshold=35,\n",
    "                                   pseudocount=10,\n",
    "                                   doublingDifferences=growthScores['expt2_rep2_etop'])"
   ]
  },
  {
   "cell_type": "code",
   "execution_count": 18,
   "id": "7c515bc8",
   "metadata": {},
   "outputs": [
    {
     "name": "stdout",
     "output_type": "stream",
     "text": [
      "399424 pairs of 407044 passing filter\n",
      "396900 pairs of 407044 passing filter\n"
     ]
    }
   ],
   "source": [
    "## Calculate expt2_keto replicate phenotypes\n",
    "\n",
    "expt2_keto_r1_phenotypes = calcLog2e_cycledonly_corrected(expt2_countsFile['t0_r1'],\n",
    "                                   expt2_countsFile['keto_r1'],\n",
    "                                   doublesLibrary,\n",
    "                                   filterThreshold=35,\n",
    "                                   pseudocount=10,\n",
    "                                   doublingDifferences=growthScores['expt2_rep1_keto'])\n",
    "\n",
    "expt2_keto_r2_phenotypes = calcLog2e_cycledonly_corrected(expt2_countsFile['t0_r2'],\n",
    "                                   expt2_countsFile['keto_r2'],\n",
    "                                   doublesLibrary,\n",
    "                                   filterThreshold=35,\n",
    "                                   pseudocount=10,\n",
    "                                   doublingDifferences=growthScores['expt2_rep2_keto'])"
   ]
  },
  {
   "cell_type": "code",
   "execution_count": 20,
   "id": "6ae7b11c",
   "metadata": {},
   "outputs": [
    {
     "name": "stdout",
     "output_type": "stream",
     "text": [
      "398161\n"
     ]
    }
   ],
   "source": [
    "## Repave expt1_dmso replicates to have the same list of threshold passed sgRNAs, repave by averaging replicate phenotypes\n",
    "\n",
    "sgIntersect =list(set(expt1_dmso_r1_phenotypes.index).intersection(expt1_dmso_r2_phenotypes.index))\n",
    "expt1_dmso_repave = ((expt1_dmso_r1_phenotypes + expt1_dmso_r2_phenotypes) / 2).loc[sgIntersect]\n",
    "print(len(expt1_dmso_repave))"
   ]
  },
  {
   "cell_type": "code",
   "execution_count": 21,
   "id": "040a4f52",
   "metadata": {},
   "outputs": [
    {
     "name": "stdout",
     "output_type": "stream",
     "text": [
      "357604\n"
     ]
    }
   ],
   "source": [
    "## Repave expt1_atr replicates to have the same list of threshold passed sgRNAs, repave by averaging replicate phenotypes\n",
    "\n",
    "sgIntersect =list(set(expt1_atr_r1_phenotypes.index).intersection(expt1_atr_r2_phenotypes.index))\n",
    "expt1_atr_repave = ((expt1_atr_r1_phenotypes + expt1_atr_r2_phenotypes) / 2).loc[sgIntersect]\n",
    "print(len(expt1_atr_repave))"
   ]
  },
  {
   "cell_type": "code",
   "execution_count": 22,
   "id": "5f84ca86",
   "metadata": {},
   "outputs": [
    {
     "name": "stdout",
     "output_type": "stream",
     "text": [
      "401956\n"
     ]
    }
   ],
   "source": [
    "## Repave expt2_dmso replicates to have the same list of threshold passed sgRNAs, repave by averaging replicate phenotypes\n",
    "\n",
    "sgIntersect =list(set(expt2_dmso_r1_phenotypes.index).intersection(expt2_dmso_r2_phenotypes.index))\n",
    "expt2_dmso_repave = ((expt2_dmso_r1_phenotypes + expt2_dmso_r2_phenotypes) / 2).loc[sgIntersect]\n",
    "print(len(expt2_dmso_repave))"
   ]
  },
  {
   "cell_type": "code",
   "execution_count": 23,
   "id": "ce0cfcee",
   "metadata": {},
   "outputs": [
    {
     "name": "stdout",
     "output_type": "stream",
     "text": [
      "404496\n"
     ]
    }
   ],
   "source": [
    "## Repave expt2_etop replicates to have the same list of threshold passed sgRNAs, repave by averaging replicate phenotypes\n",
    "\n",
    "sgIntersect =list(set(expt2_etop_r1_phenotypes.index).intersection(expt2_etop_r2_phenotypes.index))\n",
    "expt2_etop_repave = ((expt2_etop_r1_phenotypes + expt2_etop_r2_phenotypes) / 2).loc[sgIntersect]\n",
    "print(len(expt2_etop_repave))"
   ]
  },
  {
   "cell_type": "code",
   "execution_count": 24,
   "id": "664e688e",
   "metadata": {},
   "outputs": [
    {
     "name": "stdout",
     "output_type": "stream",
     "text": [
      "396900\n"
     ]
    }
   ],
   "source": [
    "## Repave expt2_keto replicates to have the same list of threshold passed sgRNAs, repave by averaging replicate phenotypes\n",
    "\n",
    "sgIntersect =list(set(expt2_keto_r1_phenotypes.index).intersection(expt2_keto_r2_phenotypes.index))\n",
    "expt2_keto_repave = ((expt2_keto_r1_phenotypes + expt2_keto_r2_phenotypes) / 2).loc[sgIntersect]\n",
    "print(len(expt2_keto_repave))"
   ]
  },
  {
   "cell_type": "code",
   "execution_count": 25,
   "id": "9e28ed75",
   "metadata": {},
   "outputs": [],
   "source": [
    "## Make phenotype matrices for all replicate averaged maps\n",
    "\n",
    "dmso1_phenotypes, dmso1_singles_table, dmso1_singles_phenotypes = generatePhenotypeMatrix(expt1_dmso_repave)\n",
    "atr_phenotypes, atr_singles_table, atr_singles_phenotypes = generatePhenotypeMatrix(expt1_atr_repave)\n",
    "dmso2_phenotypes, dmso2_singles_table, dmso2_singles_phenotypes = generatePhenotypeMatrix(expt2_dmso_repave)\n",
    "etop_phenotypes, etop_singles_table, etop_singles_phenotypes = generatePhenotypeMatrix(expt2_etop_repave)\n",
    "keto_phenotypes, keto_singles_table, keto_singles_phenotypes = generatePhenotypeMatrix(expt2_keto_repave)"
   ]
  },
  {
   "cell_type": "code",
   "execution_count": 26,
   "id": "66e5f37c",
   "metadata": {},
   "outputs": [],
   "source": [
    "## ABBA normalize data\n",
    "\n",
    "dmso1_phenotypes_abba, dmso1_singles_phenotypes_abba = abbaAveragePhenotypes(dmso1_phenotypes, dmso1_singles_table)\n",
    "atr_phenotypes_abba, atr_singles_phenotypes_abba = abbaAveragePhenotypes(atr_phenotypes, atr_singles_table)\n",
    "dmso2_phenotypes_abba, dmso2_singles_phenotypes_abba = abbaAveragePhenotypes(dmso2_phenotypes, dmso2_singles_table)\n",
    "etop_phenotypes_abba, etop_singles_phenotypes_abba = abbaAveragePhenotypes(etop_phenotypes, etop_singles_table)\n",
    "keto_phenotypes_abba, keto_singles_phenotypes_abba = abbaAveragePhenotypes(keto_phenotypes, keto_singles_table)"
   ]
  },
  {
   "cell_type": "code",
   "execution_count": 27,
   "id": "b6a8b04f",
   "metadata": {},
   "outputs": [],
   "source": [
    "## Calculate GIs\n",
    "\n",
    "dmso1_map_1, dmso1_map_2, dmso1_map_guide = calculateInteractions(dmso1_phenotypes_abba, dmso1_singles_phenotypes_abba, dmso1_singles_table, quadFitForceIntercept, zstandardize=True)\n",
    "atr_map_1, atr_map_2, atr_map_guide = calculateInteractions(atr_phenotypes_abba, atr_singles_phenotypes_abba, atr_singles_table, quadFitForceIntercept, zstandardize=True)\n",
    "dmso2_map_1, dmso2_map_2, dmso2_map_guide = calculateInteractions(dmso2_phenotypes_abba, dmso2_singles_phenotypes_abba, dmso2_singles_table, quadFitForceIntercept, zstandardize=True)\n",
    "etop_map_1, etop_map_2, etop_map_guide = calculateInteractions(etop_phenotypes_abba, etop_singles_phenotypes_abba, etop_singles_table, quadFitForceIntercept, zstandardize=True)\n",
    "keto_map_1, keto_map_2, keto_map_guide = calculateInteractions(keto_phenotypes_abba, keto_singles_phenotypes_abba, keto_singles_table, quadFitForceIntercept, zstandardize=True)\n",
    "\n"
   ]
  },
  {
   "cell_type": "code",
   "execution_count": 26,
   "id": "70c3eaaa",
   "metadata": {},
   "outputs": [],
   "source": [
    "## Calculate gene level maps\n",
    "\n",
    "dmso1_map = generateGeneMap(dmso1_map_guide, dmso1_singles_table)\n",
    "atr_map = generateGeneMap(atr_map_guide, atr_singles_table)\n",
    "dmso2_map = generateGeneMap(dmso2_map_guide, dmso2_singles_table)\n",
    "etop_map = generateGeneMap(etop_map_guide, etop_singles_table)\n",
    "keto_map = generateGeneMap(keto_map_guide, keto_singles_table)"
   ]
  },
  {
   "cell_type": "code",
   "execution_count": 27,
   "id": "8885c94b",
   "metadata": {},
   "outputs": [],
   "source": [
    "## Repave all maps to have the same index\n",
    "\n",
    "intersect = list(set(dmso1_map.index).intersection(atr_map.index).intersection(dmso2_map.index).intersection(etop_map.index).intersection(keto_map.index))\n",
    "dmso1_map = dmso1_map.loc[intersect,intersect]\n",
    "atr_map = atr_map.loc[intersect,intersect]\n",
    "dmso2_map = dmso2_map.loc[intersect,intersect]\n",
    "etop_map = etop_map.loc[intersect,intersect]\n",
    "keto_map = keto_map.loc[intersect,intersect]\n"
   ]
  },
  {
   "cell_type": "code",
   "execution_count": 55,
   "id": "ff75a0a4",
   "metadata": {},
   "outputs": [],
   "source": [
    "## Write gene-level data\n",
    "\n",
    "#dmso1_map.to_excel('/Users/benh/Desktop/GI_data/gene_maps/dmso1_map.xlsx')\n",
    "#atr_map.to_excel('/Users/benh/Desktop/GI_data/gene_maps/atr_map.xlsx')\n",
    "#dmso2_map.to_excel('/Users/benh/Desktop/GI_data/gene_maps/dmso2_map.xlsx')\n",
    "#etop_map.to_excel('/Users/benh/Desktop/GI_data/gene_maps/etop_map.xlsx')\n",
    "#keto_map.to_excel('/Users/benh/Desktop/GI_data/gene_maps/keto_map.xlsx')"
   ]
  },
  {
   "cell_type": "code",
   "execution_count": 18,
   "id": "cb3a49f8",
   "metadata": {},
   "outputs": [],
   "source": [
    "## Write phenotype matrixes\n",
    "\n",
    "#dmso1_phenotypes_abba.to_excel('/Users/benh/Desktop/GI_data/phenotype_matrices/dmso1_phenotypes.xlsx')\n",
    "#atr_phenotypes_abba.to_excel('/Users/benh/Desktop/GI_data/phenotype_matrices/atr_phenotypes.xlsx')\n",
    "#dmso2_phenotypes_abba.to_excel('/Users/benh/Desktop/GI_data/phenotype_matrices/dmso2_phenotypes.xlsx')\n",
    "#etop_phenotypes_abba.to_excel('/Users/benh/Desktop/GI_data/phenotype_matrices/etop_phenotypes.xlsx')\n",
    "#keto_phenotypes_abba.to_excel('/Users/benh/Desktop/GI_data/phenotype_matrices/keto_phenotypes.xlsx')\n"
   ]
  },
  {
   "cell_type": "code",
   "execution_count": 57,
   "id": "c45b0098",
   "metadata": {},
   "outputs": [],
   "source": [
    "## Write guide-level data\n",
    "\n",
    "#dmso1_map_guide.to_excel('/Users/benh/Desktop/GI_data/guide_maps/dmso1_sgmap.xlsx')\n",
    "#atr_map_guide.to_excel('/Users/benh/Desktop/GI_data/guide_maps/atr_sgmap.xlsx')\n",
    "#dmso2_map_guide.to_excel('/Users/benh/Desktop/GI_data/guide_maps/dmso2_sgmap.xlsx')\n",
    "#etop_map_guide.to_excel('/Users/benh/Desktop/GI_data/guide_maps/etop_sgmap.xlsx')\n",
    "#keto_map_guide.to_excel('/Users/benh/Desktop/GI_data/guide_maps/keto_sgmap.xlsx')"
   ]
  },
  {
   "cell_type": "code",
   "execution_count": 61,
   "id": "53265622",
   "metadata": {},
   "outputs": [
    {
     "name": "stderr",
     "output_type": "stream",
     "text": [
      "/var/folders/wk/hds_px4x4qg3m4rvxqhrb0wm0000gp/T/ipykernel_60078/803172525.py:42: FutureWarning: iteritems is deprecated and will be removed in a future version. Use .items instead.\n",
      "  for i, (sgPair, counts) in enumerate(phenotypes.sort_index().iteritems()):\n",
      "/var/folders/wk/hds_px4x4qg3m4rvxqhrb0wm0000gp/T/ipykernel_60078/803172525.py:42: FutureWarning: iteritems is deprecated and will be removed in a future version. Use .items instead.\n",
      "  for i, (sgPair, counts) in enumerate(phenotypes.sort_index().iteritems()):\n",
      "/var/folders/wk/hds_px4x4qg3m4rvxqhrb0wm0000gp/T/ipykernel_60078/803172525.py:42: FutureWarning: iteritems is deprecated and will be removed in a future version. Use .items instead.\n",
      "  for i, (sgPair, counts) in enumerate(phenotypes.sort_index().iteritems()):\n",
      "/var/folders/wk/hds_px4x4qg3m4rvxqhrb0wm0000gp/T/ipykernel_60078/803172525.py:42: FutureWarning: iteritems is deprecated and will be removed in a future version. Use .items instead.\n",
      "  for i, (sgPair, counts) in enumerate(phenotypes.sort_index().iteritems()):\n",
      "/var/folders/wk/hds_px4x4qg3m4rvxqhrb0wm0000gp/T/ipykernel_60078/803172525.py:42: FutureWarning: iteritems is deprecated and will be removed in a future version. Use .items instead.\n",
      "  for i, (sgPair, counts) in enumerate(phenotypes.sort_index().iteritems()):\n"
     ]
    }
   ],
   "source": [
    "## Make phenotype matrices for all replicate1 experiments\n",
    "\n",
    "#dmso1_r1_phenotypes, dmso1_r1_singles_table, dmso1_r1_singles_phenotypes = generatePhenotypeMatrix(expt1_dmso_r1_phenotypes)\n",
    "#atr_r1_phenotypes, atr_r1_singles_table, atr_r1_singles_phenotypes = generatePhenotypeMatrix(expt1_atr_r1_phenotypes)\n",
    "#dmso2_r1_phenotypes, dmso2_r1_singles_table, dmso2_r1_singles_phenotypes = generatePhenotypeMatrix(expt2_dmso_r1_phenotypes)\n",
    "#etop_r1_phenotypes, etop_r1_singles_table, etop_r1_singles_phenotypes = generatePhenotypeMatrix(expt2_etop_r1_phenotypes)\n",
    "#keto_r1_phenotypes, keto_r1_singles_table, keto_r1_singles_phenotypes = generatePhenotypeMatrix(expt2_keto_r1_phenotypes)\n"
   ]
  },
  {
   "cell_type": "code",
   "execution_count": 62,
   "id": "43adcaf4",
   "metadata": {},
   "outputs": [
    {
     "name": "stderr",
     "output_type": "stream",
     "text": [
      "/var/folders/wk/hds_px4x4qg3m4rvxqhrb0wm0000gp/T/ipykernel_60078/803172525.py:42: FutureWarning: iteritems is deprecated and will be removed in a future version. Use .items instead.\n",
      "  for i, (sgPair, counts) in enumerate(phenotypes.sort_index().iteritems()):\n",
      "/var/folders/wk/hds_px4x4qg3m4rvxqhrb0wm0000gp/T/ipykernel_60078/803172525.py:42: FutureWarning: iteritems is deprecated and will be removed in a future version. Use .items instead.\n",
      "  for i, (sgPair, counts) in enumerate(phenotypes.sort_index().iteritems()):\n",
      "/var/folders/wk/hds_px4x4qg3m4rvxqhrb0wm0000gp/T/ipykernel_60078/803172525.py:42: FutureWarning: iteritems is deprecated and will be removed in a future version. Use .items instead.\n",
      "  for i, (sgPair, counts) in enumerate(phenotypes.sort_index().iteritems()):\n",
      "/var/folders/wk/hds_px4x4qg3m4rvxqhrb0wm0000gp/T/ipykernel_60078/803172525.py:42: FutureWarning: iteritems is deprecated and will be removed in a future version. Use .items instead.\n",
      "  for i, (sgPair, counts) in enumerate(phenotypes.sort_index().iteritems()):\n",
      "/var/folders/wk/hds_px4x4qg3m4rvxqhrb0wm0000gp/T/ipykernel_60078/803172525.py:42: FutureWarning: iteritems is deprecated and will be removed in a future version. Use .items instead.\n",
      "  for i, (sgPair, counts) in enumerate(phenotypes.sort_index().iteritems()):\n"
     ]
    }
   ],
   "source": [
    "## Make phenotype matrices for all replicate2 experiments\n",
    "\n",
    "dmso1_r2_phenotypes, dmso1_r2_singles_table, dmso1_r2_singles_phenotypes = generatePhenotypeMatrix(expt1_dmso_r2_phenotypes)\n",
    "atr_r2_phenotypes, atr_r2_singles_table, atr_r2_singles_phenotypes = generatePhenotypeMatrix(expt1_atr_r2_phenotypes)\n",
    "dmso2_r2_phenotypes, dmso2_r2_singles_table, dmso2_r2_singles_phenotypes = generatePhenotypeMatrix(expt2_dmso_r2_phenotypes)\n",
    "etop_r2_phenotypes, etop_r2_singles_table, etop_r2_singles_phenotypes = generatePhenotypeMatrix(expt2_etop_r2_phenotypes)\n",
    "keto_r2_phenotypes, keto_r2_singles_table, keto_r2_singles_phenotypes = generatePhenotypeMatrix(expt2_keto_r2_phenotypes)\n"
   ]
  },
  {
   "cell_type": "code",
   "execution_count": 63,
   "id": "d21df346",
   "metadata": {},
   "outputs": [],
   "source": [
    "## ABBA normalize replicate1 data\n",
    "\n",
    "dmso1_r1_phenotypes_abba, dmso1_r1_singles_phenotypes_abba = abbaAveragePhenotypes(dmso1_r1_phenotypes, dmso1_r1_singles_table)\n",
    "atr_r1_phenotypes_abba, atr_r1_singles_phenotypes_abba = abbaAveragePhenotypes(atr_r1_phenotypes, atr_r1_singles_table)\n",
    "dmso2_r1_phenotypes_abba, dmso2_r1_singles_phenotypes_abba = abbaAveragePhenotypes(dmso2_r1_phenotypes, dmso2_r1_singles_table)\n",
    "etop_r1_phenotypes_abba, etop_r1_singles_phenotypes_abba = abbaAveragePhenotypes(etop_r1_phenotypes, etop_r1_singles_table)\n",
    "keto_r1_phenotypes_abba, keto_r1_singles_phenotypes_abba = abbaAveragePhenotypes(keto_r1_phenotypes, keto_r1_singles_table)\n"
   ]
  },
  {
   "cell_type": "code",
   "execution_count": 64,
   "id": "f48ae92c",
   "metadata": {},
   "outputs": [],
   "source": [
    "## ABBA normalize replicate2 data\n",
    "\n",
    "dmso1_r2_phenotypes_abba, dmso1_r2_singles_phenotypes_abba = abbaAveragePhenotypes(dmso1_r2_phenotypes, dmso1_r2_singles_table)\n",
    "atr_r2_phenotypes_abba, atr_r2_singles_phenotypes_abba = abbaAveragePhenotypes(atr_r2_phenotypes, atr_r2_singles_table)\n",
    "dmso2_r2_phenotypes_abba, dmso2_r2_singles_phenotypes_abba = abbaAveragePhenotypes(dmso2_r2_phenotypes, dmso2_r2_singles_table)\n",
    "etop_r2_phenotypes_abba, etop_r2_singles_phenotypes_abba = abbaAveragePhenotypes(etop_r2_phenotypes, etop_r2_singles_table)\n",
    "keto_r2_phenotypes_abba, keto_r2_singles_phenotypes_abba = abbaAveragePhenotypes(keto_r2_phenotypes, keto_r2_singles_table)\n"
   ]
  },
  {
   "cell_type": "code",
   "execution_count": 65,
   "id": "5d53a8bb",
   "metadata": {},
   "outputs": [],
   "source": [
    "## Calculate replicate1 GIs\n",
    "\n",
    "dmso1_r1_map_1, dmso1_r1_map_2, dmso1_r1_map_guide = calculateInteractions(dmso1_r1_phenotypes_abba, dmso1_r1_singles_phenotypes_abba, dmso1_r1_singles_table, quadFitForceIntercept, zstandardize=True)\n",
    "atr_r1_map_1, atr_r1_map_2, atr_r1_map_guide = calculateInteractions(atr_r1_phenotypes_abba, atr_r1_singles_phenotypes_abba, atr_r1_singles_table, quadFitForceIntercept, zstandardize=True)\n",
    "dmso2_r1_map_1, dmso2_r1_map_2, dmso2_r1_map_guide = calculateInteractions(dmso2_r1_phenotypes_abba, dmso2_r1_singles_phenotypes_abba, dmso2_r1_singles_table, quadFitForceIntercept, zstandardize=True)\n",
    "etop_r1_map_1, etop_r1_map_2, etop_r1_map_guide = calculateInteractions(etop_r1_phenotypes_abba, etop_r1_singles_phenotypes_abba, etop_r1_singles_table, quadFitForceIntercept, zstandardize=True)\n",
    "keto_r1_map_1, keto_r1_map_2, keto_r1_map_guide = calculateInteractions(keto_r1_phenotypes_abba, keto_r1_singles_phenotypes_abba, keto_r1_singles_table, quadFitForceIntercept, zstandardize=True)\n",
    "\n"
   ]
  },
  {
   "cell_type": "code",
   "execution_count": 66,
   "id": "3431d124",
   "metadata": {},
   "outputs": [],
   "source": [
    "## Calculate replicate2 GIs\n",
    "\n",
    "dmso1_r2_map_1, dmso1_r2_map_2, dmso1_r2_map_guide = calculateInteractions(dmso1_r2_phenotypes_abba, dmso1_r2_singles_phenotypes_abba, dmso1_r2_singles_table, quadFitForceIntercept, zstandardize=True)\n",
    "atr_r2_map_1, atr_r2_map_2, atr_r2_map_guide = calculateInteractions(atr_r2_phenotypes_abba, atr_r2_singles_phenotypes_abba, atr_r2_singles_table, quadFitForceIntercept, zstandardize=True)\n",
    "dmso2_r2_map_1, dmso2_r2_map_2, dmso2_r2_map_guide = calculateInteractions(dmso2_r2_phenotypes_abba, dmso2_r2_singles_phenotypes_abba, dmso2_r2_singles_table, quadFitForceIntercept, zstandardize=True)\n",
    "etop_r2_map_1, etop_r2_map_2, etop_r2_map_guide = calculateInteractions(etop_r2_phenotypes_abba, etop_r2_singles_phenotypes_abba, etop_r2_singles_table, quadFitForceIntercept, zstandardize=True)\n",
    "keto_r2_map_1, keto_r2_map_2, keto_r2_map_guide = calculateInteractions(keto_r2_phenotypes_abba, keto_r2_singles_phenotypes_abba, keto_r2_singles_table, quadFitForceIntercept, zstandardize=True)\n"
   ]
  },
  {
   "cell_type": "code",
   "execution_count": 69,
   "id": "e481e664",
   "metadata": {},
   "outputs": [],
   "source": [
    "## Calculate gene level replicate1 maps\n",
    "\n",
    "dmso1_r1_map = generateGeneMap(dmso1_r1_map_guide, dmso1_r1_singles_table)\n",
    "atr_r1_map = generateGeneMap(atr_r1_map_guide, atr_r1_singles_table)\n",
    "dmso2_r1_map = generateGeneMap(dmso2_r1_map_guide, dmso2_r1_singles_table)\n",
    "etop_r1_map = generateGeneMap(etop_r1_map_guide, etop_r1_singles_table)\n",
    "keto_r1_map = generateGeneMap(keto_r1_map_guide, keto_r1_singles_table)"
   ]
  },
  {
   "cell_type": "code",
   "execution_count": 70,
   "id": "12616ad4",
   "metadata": {},
   "outputs": [],
   "source": [
    "## Calculate gene level replicate2 maps\n",
    "\n",
    "dmso1_r2_map = generateGeneMap(dmso1_r2_map_guide, dmso1_r2_singles_table)\n",
    "atr_r2_map = generateGeneMap(atr_r2_map_guide, atr_r2_singles_table)\n",
    "dmso2_r2_map = generateGeneMap(dmso2_r2_map_guide, dmso2_r2_singles_table)\n",
    "etop_r2_map = generateGeneMap(etop_r2_map_guide, etop_r2_singles_table)\n",
    "keto_r2_map = generateGeneMap(keto_r2_map_guide, keto_r2_singles_table)"
   ]
  },
  {
   "cell_type": "code",
   "execution_count": 71,
   "id": "badab015",
   "metadata": {},
   "outputs": [],
   "source": [
    "## Write gene-level replicate1 data\n",
    "\n",
    "#dmso1_r1_map.to_excel('/Users/benh/Desktop/GI_data/gene_maps/dmso1_r1_map.xlsx')\n",
    "#atr_r1_map.to_excel('/Users/benh/Desktop/GI_data/gene_maps/atr_r1_map.xlsx')\n",
    "#dmso2_r1_map.to_excel('/Users/benh/Desktop/GI_data/gene_maps/dmso2_r1_map.xlsx')\n",
    "#etop_r1_map.to_excel('/Users/benh/Desktop/GI_data/gene_maps/etop_r1_map.xlsx')\n",
    "#keto_r1_map.to_excel('/Users/benh/Desktop/GI_data/gene_maps/keto_r1_map.xlsx')"
   ]
  },
  {
   "cell_type": "code",
   "execution_count": 72,
   "id": "36b067c8",
   "metadata": {},
   "outputs": [],
   "source": [
    "## Write gene-level replicate2 data\n",
    "\n",
    "#dmso1_r2_map.to_excel('/Users/benh/Desktop/GI_data/gene_maps/dmso1_r2_map.xlsx')\n",
    "#atr_r2_map.to_excel('/Users/benh/Desktop/GI_data/gene_maps/atr_r2_map.xlsx')\n",
    "#dmso2_r2_map.to_excel('/Users/benh/Desktop/GI_data/gene_maps/dmso2_r2_map.xlsx')\n",
    "#etop_r2_map.to_excel('/Users/benh/Desktop/GI_data/gene_maps/etop_r2_map.xlsx')\n",
    "#keto_r2_map.to_excel('/Users/benh/Desktop/GI_data/gene_maps/keto_r2_map.xlsx')"
   ]
  },
  {
   "cell_type": "code",
   "execution_count": 73,
   "id": "c6685fbf",
   "metadata": {},
   "outputs": [],
   "source": [
    "## Write guide-level replicate1 data\n",
    "\n",
    "#dmso1_r1_map_guide.to_excel('/Users/benh/Desktop/GI_data/guide_maps/dmso1_r1_sgmap.xlsx')\n",
    "#atr_r1_map_guide.to_excel('/Users/benh/Desktop/GI_data/guide_maps/atr_r1_sgmap.xlsx')\n",
    "#dmso2_r1_map_guide.to_excel('/Users/benh/Desktop/GI_data/guide_maps/dmso2_r1_sgmap.xlsx')\n",
    "#etop_r1_map_guide.to_excel('/Users/benh/Desktop/GI_data/guide_maps/etop_r1_sgmap.xlsx')\n",
    "#keto_r1_map_guide.to_excel('/Users/benh/Desktop/GI_data/guide_maps/keto_r1_sgmap.xlsx')"
   ]
  },
  {
   "cell_type": "code",
   "execution_count": 74,
   "id": "34cf8e6b",
   "metadata": {},
   "outputs": [],
   "source": [
    "## Write guide-level replicate1 data\n",
    "\n",
    "#dmso1_r2_map_guide.to_excel('/Users/benh/Desktop/GI_data/guide_maps/dmso1_r2_sgmap.xlsx')\n",
    "#atr_r2_map_guide.to_excel('/Users/benh/Desktop/GI_data/guide_maps/atr_r2_sgmap.xlsx')\n",
    "#dmso2_r2_map_guide.to_excel('/Users/benh/Desktop/GI_data/guide_maps/dmso2_r2_sgmap.xlsx')\n",
    "#etop_r2_map_guide.to_excel('/Users/benh/Desktop/GI_data/guide_maps/etop_r2_sgmap.xlsx')\n",
    "#keto_r2_map_guide.to_excel('/Users/benh/Desktop/GI_data/guide_maps/keto_r2_sgmap.xlsx')"
   ]
  },
  {
   "cell_type": "code",
   "execution_count": 78,
   "id": "42215e98",
   "metadata": {},
   "outputs": [],
   "source": [
    "## Write all singles tables\n",
    "#dmso1_singles_table.to_excel('/Users/benh/Desktop/GI_data/singles_tables/dmso1_singles.xlsx')\n",
    "#atr_singles_table.to_excel('/Users/benh/Desktop/GI_data/singles_tables/atr_singles.xlsx')\n",
    "#dmso2_singles_table.to_excel('/Users/benh/Desktop/GI_data/singles_tables/dmso2_singles.xlsx')\n",
    "#etop_singles_table.to_excel('/Users/benh/Desktop/GI_data/singles_tables/etop_singles.xlsx')\n",
    "#keto_singles_table.to_excel('/Users/benh/Desktop/GI_data/singles_tables/keto_singles.xlsx')\n",
    "\n",
    "#dmso1_r1_singles_table.to_excel('/Users/benh/Desktop/GI_data/singles_tables/dmso1_r1_singles.xlsx')\n",
    "#atr_r1_singles_table.to_excel('/Users/benh/Desktop/GI_data/singles_tables/atr_r1_singles.xlsx')\n",
    "#dmso2_r1_singles_table.to_excel('/Users/benh/Desktop/GI_data/singles_tables/dmso2_r1_singles.xlsx')\n",
    "#etop_r1_singles_table.to_excel('/Users/benh/Desktop/GI_data/singles_tables/etop_r1_singles.xlsx')\n",
    "#keto_r1_singles_table.to_excel('/Users/benh/Desktop/GI_data/singles_tables/keto_r1_singles.xlsx')\n",
    "\n",
    "#dmso1_r2_singles_table.to_excel('/Users/benh/Desktop/GI_data/singles_tables/dmso1_r2_singles.xlsx')\n",
    "#atr_r2_singles_table.to_excel('/Users/benh/Desktop/GI_data/singles_tables/atr_r2_singles.xlsx')\n",
    "#dmso2_r2_singles_table.to_excel('/Users/benh/Desktop/GI_data/singles_tables/dmso2_r2_singles.xlsx')\n",
    "#etop_r2_singles_table.to_excel('/Users/benh/Desktop/GI_data/singles_tables/etop_r2_singles.xlsx')\n",
    "#keto_r2_singles_table.to_excel('/Users/benh/Desktop/GI_data/singles_tables/keto_r2_singles.xlsx')"
   ]
  },
  {
   "cell_type": "code",
   "execution_count": 80,
   "id": "b3436c8d",
   "metadata": {},
   "outputs": [],
   "source": [
    "## Write all singles phenotypes\n",
    "#dmso1_singles_phenotypes_abba.to_excel('/Users/benh/Desktop/GI_data/singles_phenotypes/dmso1_singles_phenotypes.xlsx')\n",
    "#atr_singles_phenotypes_abba.to_excel('/Users/benh/Desktop/GI_data/singles_phenotypes/atr_singles_phenotypes.xlsx')\n",
    "#dmso2_singles_phenotypes_abba.to_excel('/Users/benh/Desktop/GI_data/singles_phenotypes/dmso2_singles_phenotypes.xlsx')\n",
    "#etop_singles_phenotypes_abba.to_excel('/Users/benh/Desktop/GI_data/singles_phenotypes/etop_singles_phenotypes.xlsx')\n",
    "#keto_singles_phenotypes_abba.to_excel('/Users/benh/Desktop/GI_data/singles_phenotypes/keto_singles_phenotypes.xlsx')\n",
    "\n",
    "#dmso1_r1_singles_phenotypes_abba.to_excel('/Users/benh/Desktop/GI_data/singles_phenotypes/dmso1_r1_singles_phenotypes.xlsx')\n",
    "#atr_r1_singles_phenotypes_abba.to_excel('/Users/benh/Desktop/GI_data/singles_phenotypes/atr_r1_singles_phenotypes.xlsx')\n",
    "#dmso2_r1_singles_phenotypes_abba.to_excel('/Users/benh/Desktop/GI_data/singles_phenotypes/dmso2_r1_singles_phenotypes.xlsx')\n",
    "#etop_r1_singles_phenotypes_abba.to_excel('/Users/benh/Desktop/GI_data/singles_phenotypes/etop_r1_singles_phenotypes.xlsx')\n",
    "#keto_r1_singles_phenotypes_abba.to_excel('/Users/benh/Desktop/GI_data/singles_phenotypes/keto_r1_singles_phenotypes.xlsx')\n",
    "\n",
    "#dmso1_r2_singles_phenotypes_abba.to_excel('/Users/benh/Desktop/GI_data/singles_phenotypes/dmso1_r2_singles_phenotypes.xlsx')\n",
    "#atr_r2_singles_phenotypes_abba.to_excel('/Users/benh/Desktop/GI_data/singles_phenotypes/atr_r2_singles_phenotypes.xlsx')\n",
    "#dmso2_r2_singles_phenotypes_abba.to_excel('/Users/benh/Desktop/GI_data/singles_phenotypes/dmso2_r2_singles_phenotypes.xlsx')\n",
    "#etop_r2_singles_phenotypes_abba.to_excel('/Users/benh/Desktop/GI_data/singles_phenotypes/etop_r2_singles_phenotypes.xlsx')\n",
    "#keto_r2_singles_phenotypes_abba.to_excel('/Users/benh/Desktop/GI_data/singles_phenotypes/keto_r2_singles_phenotypes.xlsx')\n"
   ]
  },
  {
   "cell_type": "code",
   "execution_count": 30,
   "id": "3ac72112",
   "metadata": {},
   "outputs": [
    {
     "name": "stdout",
     "output_type": "stream",
     "text": [
      "370881 pairs of 407044 passing filter\n",
      "357604 pairs of 407044 passing filter\n"
     ]
    }
   ],
   "source": [
    "## Calculate expt1_atr replicate rho phenotypes\n",
    "\n",
    "expt1_atr_rho_r1_phenotypes = calcLog2e_cycledonly(expt1_countsFile['Rep1_UT'],\n",
    "                                   expt1_countsFile['Rep1_DRUG'],\n",
    "                                   doublesLibrary,\n",
    "                                   filterThreshold=35,\n",
    "                                   pseudocount=10,\n",
    "                                   doublingDifferences=growthScores['expt1_rep1_dmso']-growthScores['expt1_rep1_atr'])\n",
    "\n",
    "expt1_atr_rho_r2_phenotypes = calcLog2e_cycledonly(expt1_countsFile['Rep2_UT'],\n",
    "                                   expt1_countsFile['Rep2_DRUG'],\n",
    "                                   doublesLibrary,\n",
    "                                   filterThreshold=35,\n",
    "                                   pseudocount=10,\n",
    "                                   doublingDifferences=growthScores['expt1_rep2_dmso']-growthScores['expt1_rep2_atr'])"
   ]
  },
  {
   "cell_type": "code",
   "execution_count": 31,
   "id": "77ab6d17",
   "metadata": {},
   "outputs": [],
   "source": [
    "intersect = list(expt1_atr_rho_r1_phenotypes.index.intersection(expt1_atr_rho_r2_phenotypes.index))\n",
    "## Repave expt1_dmso replicates to have the same list of threshold passed sgRNAs\n",
    "\n",
    "\n",
    "expt1_atr_rho_repave = ((expt1_atr_rho_r1_phenotypes + expt1_atr_rho_r2_phenotypes) / 2).loc[intersect]"
   ]
  },
  {
   "cell_type": "code",
   "execution_count": 29,
   "id": "59ffb58f",
   "metadata": {},
   "outputs": [
    {
     "name": "stdout",
     "output_type": "stream",
     "text": [
      "404496 pairs of 407044 passing filter\n",
      "404496 pairs of 407044 passing filter\n"
     ]
    }
   ],
   "source": [
    "## Calculate expt2_etop replicate rho phenotypes\n",
    "\n",
    "expt2_etop_rho_r1_phenotypes = calcLog2e_cycledonly(expt2_countsFile['dmso_r1'],\n",
    "                                   expt2_countsFile['etop_r1'],\n",
    "                                   doublesLibrary,\n",
    "                                   filterThreshold=35,\n",
    "                                   pseudocount=10,\n",
    "                                   doublingDifferences=growthScores['expt2_rep1_dmso']-growthScores['expt2_rep1_etop'])\n",
    "\n",
    "expt2_etop_rho_r2_phenotypes = calcLog2e_cycledonly(expt2_countsFile['dmso_r2'],\n",
    "                                   expt2_countsFile['etop_r2'],\n",
    "                                   doublesLibrary,\n",
    "                                   filterThreshold=35,\n",
    "                                   pseudocount=10,\n",
    "                                   doublingDifferences=growthScores['expt2_rep2_dmso']-growthScores['expt2_rep2_etop'])"
   ]
  },
  {
   "cell_type": "code",
   "execution_count": 32,
   "id": "0f5ef330",
   "metadata": {},
   "outputs": [],
   "source": [
    "intersect = list(expt2_etop_rho_r1_phenotypes.index.intersection(expt2_etop_rho_r2_phenotypes.index))\n",
    "## Repave expt1_dmso replicates to have the same list of threshold passed sgRNAs\n",
    "\n",
    "\n",
    "expt2_etop_rho_repave = ((expt2_etop_rho_r1_phenotypes + expt2_etop_rho_r2_phenotypes) / 2).loc[intersect]\n"
   ]
  },
  {
   "cell_type": "code",
   "execution_count": 33,
   "id": "58938c95",
   "metadata": {},
   "outputs": [
    {
     "name": "stdout",
     "output_type": "stream",
     "text": [
      "399424 pairs of 407044 passing filter\n",
      "396900 pairs of 407044 passing filter\n"
     ]
    }
   ],
   "source": [
    "## Calculate expt2_keto replicate rho phenotypes\n",
    "\n",
    "expt2_keto_rho_r1_phenotypes = calcLog2e_cycledonly(expt2_countsFile['dmso_r1'],\n",
    "                                   expt2_countsFile['keto_r1'],\n",
    "                                   doublesLibrary,\n",
    "                                   filterThreshold=35,\n",
    "                                   pseudocount=10,\n",
    "                                   doublingDifferences=growthScores['expt2_rep1_dmso']-growthScores['expt2_rep1_keto'])\n",
    "\n",
    "expt2_keto_rho_r2_phenotypes = calcLog2e_cycledonly(expt2_countsFile['dmso_r2'],\n",
    "                                   expt2_countsFile['keto_r2'],\n",
    "                                   doublesLibrary,\n",
    "                                   filterThreshold=35,\n",
    "                                   pseudocount=10,\n",
    "                                   doublingDifferences=growthScores['expt2_rep2_dmso']-growthScores['expt2_rep2_keto'])"
   ]
  },
  {
   "cell_type": "code",
   "execution_count": 34,
   "id": "123c6aa7",
   "metadata": {},
   "outputs": [],
   "source": [
    "intersect = list(expt2_keto_rho_r1_phenotypes.index.intersection(expt2_keto_rho_r2_phenotypes.index))\n",
    "## Repave expt1_dmso replicates to have the same list of threshold passed sgRNAs\n",
    "\n",
    "\n",
    "expt2_keto_rho_repave = ((expt2_keto_rho_r1_phenotypes + expt2_keto_rho_r2_phenotypes) / 2).loc[intersect]"
   ]
  },
  {
   "cell_type": "code",
   "execution_count": 35,
   "id": "e244c3bd",
   "metadata": {},
   "outputs": [
    {
     "name": "stderr",
     "output_type": "stream",
     "text": [
      "/var/folders/wk/hds_px4x4qg3m4rvxqhrb0wm0000gp/T/ipykernel_21194/803172525.py:42: FutureWarning: iteritems is deprecated and will be removed in a future version. Use .items instead.\n",
      "  for i, (sgPair, counts) in enumerate(phenotypes.sort_index().iteritems()):\n",
      "/var/folders/wk/hds_px4x4qg3m4rvxqhrb0wm0000gp/T/ipykernel_21194/803172525.py:42: FutureWarning: iteritems is deprecated and will be removed in a future version. Use .items instead.\n",
      "  for i, (sgPair, counts) in enumerate(phenotypes.sort_index().iteritems()):\n",
      "/var/folders/wk/hds_px4x4qg3m4rvxqhrb0wm0000gp/T/ipykernel_21194/803172525.py:42: FutureWarning: iteritems is deprecated and will be removed in a future version. Use .items instead.\n",
      "  for i, (sgPair, counts) in enumerate(phenotypes.sort_index().iteritems()):\n"
     ]
    }
   ],
   "source": [
    "atr_rho_phenotypes, atr_rho_singles_table, atr_rho_singles_phenotypes = generatePhenotypeMatrix(expt1_atr_rho_repave)\n",
    "etop_rho_phenotypes, etop_rho_singles_table, etop_rho_singles_phenotypes = generatePhenotypeMatrix(expt2_etop_rho_repave)\n",
    "keto_rho_phenotypes, keto_rho_singles_table, keto_rho_singles_phenotypes = generatePhenotypeMatrix(expt2_keto_rho_repave)\n"
   ]
  },
  {
   "cell_type": "code",
   "execution_count": 42,
   "id": "cc4c33fa",
   "metadata": {},
   "outputs": [],
   "source": [
    "atr_rho_phenotypes, atr_rho_singles_phenotypes = abbaAveragePhenotypes(atr_rho_phenotypes, atr_rho_singles_table)\n",
    "etop_rho_phenotypes, etop_rho_singles_phenotypes = abbaAveragePhenotypes(etop_rho_phenotypes, etop_rho_singles_table)\n",
    "keto_rho_phenotypes, keto_rho_singles_phenotypes = abbaAveragePhenotypes(keto_rho_phenotypes, keto_rho_singles_table)\n"
   ]
  },
  {
   "cell_type": "code",
   "execution_count": 43,
   "id": "2ad97560",
   "metadata": {},
   "outputs": [],
   "source": [
    "## write rho values\n",
    "\n",
    "# phenotypes\n",
    "atr_rho_phenotypes.to_excel('/Users/benh/Desktop/GI_data/phenotype_matrices/atr_rho_phenotypes.xlsx')\n",
    "etop_rho_phenotypes.to_excel('/Users/benh/Desktop/GI_data/phenotype_matrices/etop_rho_phenotypes.xlsx')\n",
    "keto_rho_phenotypes.to_excel('/Users/benh/Desktop/GI_data/phenotype_matrices/keto_rho_phenotypes.xlsx')"
   ]
  },
  {
   "cell_type": "code",
   "execution_count": 44,
   "id": "3351935f",
   "metadata": {},
   "outputs": [],
   "source": [
    "# singles \n",
    "atr_rho_singles_phenotypes.to_excel('/Users/benh/Desktop/GI_data/singles_phenotypes/atr_rho_singles_phenotypes.xlsx')\n",
    "etop_rho_singles_phenotypes.to_excel('/Users/benh/Desktop/GI_data/singles_phenotypes/etop_rho_singles_phenotypes.xlsx')\n",
    "keto_rho_singles_phenotypes.to_excel('/Users/benh/Desktop/GI_data/singles_phenotypes/keto_rho_singles_phenotypes.xlsx')"
   ]
  }
 ],
 "metadata": {
  "kernelspec": {
   "display_name": "Python 3 (ipykernel)",
   "language": "python",
   "name": "python3"
  },
  "language_info": {
   "codemirror_mode": {
    "name": "ipython",
    "version": 3
   },
   "file_extension": ".py",
   "mimetype": "text/x-python",
   "name": "python",
   "nbconvert_exporter": "python",
   "pygments_lexer": "ipython3",
   "version": "3.13.0"
  }
 },
 "nbformat": 4,
 "nbformat_minor": 5
}
