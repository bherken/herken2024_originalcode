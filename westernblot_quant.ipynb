{
 "cells": [
  {
   "cell_type": "code",
   "execution_count": 2,
   "id": "41779730",
   "metadata": {},
   "outputs": [],
   "source": [
    "## The purpose of this notebook is analyze and quantify western blot data. The input data folder is made by using Fiji to analyze the\n",
    "## lanes of three independent western blot experiments. The raw images used are also available in the box folder. Process to calculate\n",
    "## background and GAPDH normalized band intensities can be found in our methods\n",
    "\n",
    "## Plots generated in this notebook are used to make Figures 6G"
   ]
  },
  {
   "cell_type": "code",
   "execution_count": null,
   "id": "0ba70eee-003b-4b6d-9c3d-7d8f09434cf5",
   "metadata": {},
   "outputs": [],
   "source": [
    "## Import modules\n",
    "\n",
    "import pandas as pd\n",
    "import matplotlib.pyplot as plt\n",
    "from scipy import stats"
   ]
  },
  {
   "cell_type": "code",
   "execution_count": 5,
   "id": "39677a15",
   "metadata": {},
   "outputs": [],
   "source": [
    "## Import data\n",
    "## data available at https://app.box.com/folder/171917844113?s=nuwov4kgb55mqfrr7j5a216ot78f4uxn\n",
    "#data = pd.read_csv('../westernblot_files/wb_quant.csv',index_col = 0)\n",
    "\n",
    "data = pd.read_csv('/Users/benh/Desktop/UCSF_Tetrad_Program/Gilbert_Lab/wb_quant/wb_quant.csv',index_col = 0)"
   ]
  },
  {
   "cell_type": "code",
   "execution_count": 6,
   "id": "7ecbe026",
   "metadata": {},
   "outputs": [
    {
     "data": {
      "text/html": [
       "<div>\n",
       "<style scoped>\n",
       "    .dataframe tbody tr th:only-of-type {\n",
       "        vertical-align: middle;\n",
       "    }\n",
       "\n",
       "    .dataframe tbody tr th {\n",
       "        vertical-align: top;\n",
       "    }\n",
       "\n",
       "    .dataframe thead th {\n",
       "        text-align: right;\n",
       "    }\n",
       "</style>\n",
       "<table border=\"1\" class=\"dataframe\">\n",
       "  <thead>\n",
       "    <tr style=\"text-align: right;\">\n",
       "      <th></th>\n",
       "      <th>80224</th>\n",
       "      <th>80724</th>\n",
       "      <th>80824</th>\n",
       "    </tr>\n",
       "  </thead>\n",
       "  <tbody>\n",
       "    <tr>\n",
       "      <th>dmso_20ug_DMAP1</th>\n",
       "      <td>0.266841</td>\n",
       "      <td>0.108682</td>\n",
       "      <td>0.428823</td>\n",
       "    </tr>\n",
       "    <tr>\n",
       "      <th>atri_20ug_DMAP1</th>\n",
       "      <td>0.934542</td>\n",
       "      <td>0.663708</td>\n",
       "      <td>0.820734</td>\n",
       "    </tr>\n",
       "    <tr>\n",
       "      <th>etop_20ug_DMAP1</th>\n",
       "      <td>0.543411</td>\n",
       "      <td>0.286580</td>\n",
       "      <td>0.573026</td>\n",
       "    </tr>\n",
       "    <tr>\n",
       "      <th>trrapko_20ug_DMAP1</th>\n",
       "      <td>NaN</td>\n",
       "      <td>0.442928</td>\n",
       "      <td>1.036256</td>\n",
       "    </tr>\n",
       "    <tr>\n",
       "      <th>dmso_20ug_TRRAP</th>\n",
       "      <td>0.181206</td>\n",
       "      <td>0.346801</td>\n",
       "      <td>0.498941</td>\n",
       "    </tr>\n",
       "    <tr>\n",
       "      <th>atri_20ug_TRRAP</th>\n",
       "      <td>0.547902</td>\n",
       "      <td>0.763139</td>\n",
       "      <td>0.994160</td>\n",
       "    </tr>\n",
       "    <tr>\n",
       "      <th>etop_20ug_TRRAP</th>\n",
       "      <td>0.391219</td>\n",
       "      <td>0.720026</td>\n",
       "      <td>0.964397</td>\n",
       "    </tr>\n",
       "    <tr>\n",
       "      <th>trrapko_20ug_TRRAP</th>\n",
       "      <td>NaN</td>\n",
       "      <td>0.098130</td>\n",
       "      <td>0.174383</td>\n",
       "    </tr>\n",
       "  </tbody>\n",
       "</table>\n",
       "</div>"
      ],
      "text/plain": [
       "                       80224     80724     80824\n",
       "dmso_20ug_DMAP1     0.266841  0.108682  0.428823\n",
       "atri_20ug_DMAP1     0.934542  0.663708  0.820734\n",
       "etop_20ug_DMAP1     0.543411  0.286580  0.573026\n",
       "trrapko_20ug_DMAP1       NaN  0.442928  1.036256\n",
       "dmso_20ug_TRRAP     0.181206  0.346801  0.498941\n",
       "atri_20ug_TRRAP     0.547902  0.763139  0.994160\n",
       "etop_20ug_TRRAP     0.391219  0.720026  0.964397\n",
       "trrapko_20ug_TRRAP       NaN  0.098130  0.174383"
      ]
     },
     "execution_count": 6,
     "metadata": {},
     "output_type": "execute_result"
    }
   ],
   "source": [
    "data"
   ]
  },
  {
   "cell_type": "code",
   "execution_count": 7,
   "id": "4e553e91",
   "metadata": {},
   "outputs": [
    {
     "data": {
      "text/plain": [
       "(0.0, 1.0)"
      ]
     },
     "execution_count": 7,
     "metadata": {},
     "output_type": "execute_result"
    },
    {
     "data": {
      "image/png": "[encoded data removed]",
      "text/plain": [
       "<Figure size 500x500 with 1 Axes>"
      ]
     },
     "metadata": {},
     "output_type": "display_data"
    }
   ],
   "source": [
    "## plot average lane intensities for DMAP1 across the three experiments. Also represent data as a dot plot\n",
    "\n",
    "col_map = ['dimgray','mediumturquoise','lightcoral']\n",
    "plt.figure(figsize = (5,5))\n",
    "plt.bar((0,1,2),(data.iloc[0,:].mean(),data.iloc[1,:].mean(),data.iloc[2,:].mean()),\n",
    "        yerr = (data.iloc[0,:].std(),data.iloc[1,:].std(),data.iloc[2,:].std()), \n",
    "        tick_label = ['','' ,''],capsize = 5, edgecolor = 'black',color = col_map,alpha=0.2)\n",
    "\n",
    "for i in range(3):\n",
    "    plt.scatter((i,i,i),data.iloc[i,:],color = col_map[i])\n",
    "plt.ylim(0,1)\n"
   ]
  },
  {
   "cell_type": "code",
   "execution_count": 17,
   "id": "c5cba906",
   "metadata": {},
   "outputs": [
    {
     "data": {
      "text/plain": [
       "0.054449093127122664"
      ]
     },
     "execution_count": 17,
     "metadata": {},
     "output_type": "execute_result"
    }
   ],
   "source": [
    "stats.ttest_ind(data.iloc[4,:],data.iloc[5,:],alternative='two-sided')[1]"
   ]
  },
  {
   "cell_type": "code",
   "execution_count": 8,
   "id": "fccc6506",
   "metadata": {},
   "outputs": [
    {
     "data": {
      "text/plain": [
       "(0.0, 1.0)"
      ]
     },
     "execution_count": 8,
     "metadata": {},
     "output_type": "execute_result"
    },
    {
     "data": {
      "image/png": "[encoded data removed]",
      "text/plain": [
       "<Figure size 500x500 with 1 Axes>"
      ]
     },
     "metadata": {},
     "output_type": "display_data"
    }
   ],
   "source": [
    "## plot average lane intensities for TRRAP across the three experiments. Also represent data as a dot plot\n",
    "\n",
    "col_map = ['dimgray','mediumturquoise','lightcoral','orange']\n",
    "plt.figure(figsize = (5,5))\n",
    "plt.bar((0,1,2,3),(data.iloc[4,:].mean(),data.iloc[5,:].mean(),data.iloc[6,:].mean(),data.iloc[7,:].mean()),\n",
    "        yerr = (data.iloc[4,:].std(),data.iloc[5,:].std(),data.iloc[6,:].std(),data.iloc[7,:].std()), \n",
    "        tick_label = ['','' ,'',''],capsize = 5, edgecolor = 'black',color = col_map,alpha=0.1)\n",
    "\n",
    "for i,y in enumerate(range(4,8)):\n",
    "    plt.scatter((i,i,i),data.iloc[y,:],color = col_map[i])\n",
    "\n",
    "\n",
    "plt.ylim(0,1)\n",
    "#plt.savefig('/Users/benh/Desktop/wb_quant/wb_trrap_quant.png',dpi=300)"
   ]
  }
 ],
 "metadata": {
  "kernelspec": {
   "display_name": "Python 3 (ipykernel)",
   "language": "python",
   "name": "python3"
  },
  "language_info": {
   "codemirror_mode": {
    "name": "ipython",
    "version": 3
   },
   "file_extension": ".py",
   "mimetype": "text/x-python",
   "name": "python",
   "nbconvert_exporter": "python",
   "pygments_lexer": "ipython3",
   "version": "3.13.0"
  }
 },
 "nbformat": 4,
 "nbformat_minor": 5
}
